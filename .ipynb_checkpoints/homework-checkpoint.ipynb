{
 "cells": [
  {
   "cell_type": "markdown",
   "metadata": {},
   "source": [
    "## Trabalho de IA - Naive Bayes Classifier\n",
    "\n",
    "Equipe:\n",
    "+ Hendy Rodrigues F. Silva - Mat: 1510081\n",
    "\n",
    "Referencias:\n",
    "- http://artificiencia.com/aprenda/algoritmo-naive-bayes/\n",
    "- https://chrisalbon.com/machine_learning/naive_bayes/naive_bayes_classifier_from_scratch/\n",
    "- https://hackinganalytics.com/2016/10/13/desvendando-o-classificador-naive-bayes/\n",
    "- https://towardsdatascience.com/naive-bayes-in-machine-learning-f49cc8f831b4"
   ]
  },
  {
   "cell_type": "code",
   "execution_count": 1,
   "metadata": {
    "scrolled": false
   },
   "outputs": [
    {
     "data": {
      "text/html": [
       "<div>\n",
       "<style scoped>\n",
       "    .dataframe tbody tr th:only-of-type {\n",
       "        vertical-align: middle;\n",
       "    }\n",
       "\n",
       "    .dataframe tbody tr th {\n",
       "        vertical-align: top;\n",
       "    }\n",
       "\n",
       "    .dataframe thead th {\n",
       "        text-align: right;\n",
       "    }\n",
       "</style>\n",
       "<table border=\"1\" class=\"dataframe\">\n",
       "  <thead>\n",
       "    <tr style=\"text-align: right;\">\n",
       "      <th></th>\n",
       "      <th>Genero</th>\n",
       "      <th>Idade</th>\n",
       "      <th>Escolaridade</th>\n",
       "      <th>Profissao</th>\n",
       "      <th>Target</th>\n",
       "    </tr>\n",
       "  </thead>\n",
       "  <tbody>\n",
       "    <tr>\n",
       "      <th>0</th>\n",
       "      <td>F</td>\n",
       "      <td>a - Ate 25 anos</td>\n",
       "      <td>Fundamental</td>\n",
       "      <td>b</td>\n",
       "      <td>0</td>\n",
       "    </tr>\n",
       "  </tbody>\n",
       "</table>\n",
       "</div>"
      ],
      "text/plain": [
       "  Genero             Idade Escolaridade Profissao  Target\n",
       "0      F  a - Ate 25 anos   Fundamental         b       0"
      ]
     },
     "execution_count": 1,
     "metadata": {},
     "output_type": "execute_result"
    }
   ],
   "source": [
    "import pandas as pd\n",
    "import numpy as np\n",
    "from random import randint\n",
    "import matplotlib.pyplot as plt\n",
    "import matplotlib.ticker as mtick\n",
    "import warnings\n",
    "warnings.filterwarnings('ignore')\n",
    "\n",
    "\n",
    "dataset = pd.read_csv('dataset/dataset.csv')\n",
    "\n",
    "dataset.head(1)"
   ]
  },
  {
   "cell_type": "markdown",
   "metadata": {},
   "source": [
    "### Variaveis auxiliares"
   ]
  },
  {
   "cell_type": "code",
   "execution_count": 2,
   "metadata": {},
   "outputs": [],
   "source": [
    "\n",
    "# Lista com todas as colunas menos Target\n",
    "list_columns = list(dataset)\n",
    "list_columns.pop()\n",
    "\n",
    "# Lista de classes do target (0 e 1)\n",
    "list_value_tg = list(dataset['Target'].unique())"
   ]
  },
  {
   "cell_type": "markdown",
   "metadata": {},
   "source": [
    "### Estratégia adotada\n",
    "\n",
    "De acordo com o proposto pelo trabalho, o algoritmo deveria rodar **30 vezes** e calcular Naive Bayes sendo que a cada interação deve-se embaralhar os datasets de treino e de teste, porem ao criar essa lógica tempo de execução disso, era cerca de **15 minutos** para cada 30 interações, após isso, teria o calculo da variação dos datasets de **80/20** até **20/80**, que dava um total de 60 interações, e cada interação ainda rodava o teste de 30 vezes, o que dava um total de 1800 interações do Naive Bayes sendo que o Naive Bayes interava o DataSet de teste inteiro para fazer o calculo, então fica claro que ele demorava muito tempo.\n",
    "Analisando o código, identifiquei que além da quantidade de interações altissimas (que não dava para evitar), tinha outro gargalo nesse tempo que ele rodava, a consulta no ``Pandas`` era pouco perfomatica (eu utilizei o PANDAS para fazer operações com dataset) para executar, como ele fazia cerca de 25.000 consultas em um dataset de 1000 linhas ele demorava absurdos para executar. O motivo de tanta consulta era que, o algoritmo filtrava o dataset para fazer a contagem na criação da função ``P (A | h)``.\n",
    "\n",
    "#### Solução\n",
    "\n",
    "A cada vez que embaralhava o dataset, quando eu interava o dataset para calcular a probabilidade das classes de cada linha do dataset de teste, ele basicamente utilizava as mesmas operações, diversas vezes no mesmo dataset, então após embaralhar o dataset, eu crio um ``cache`` das operações em uma ``list`` para ao percorrer o dataset de teste, apenas consultar o cache ao inves de executar a operação do Naive Bayes.<br> \n",
    "+ A quantidade de consultas caiu de **25.000** para **36** (no caso desse dataset).\n",
    "+ O tempo de execução dessa solução foi de **9 horas** de execução para **45 minutos**.\n",
    "\n",
    "\n",
    "### Funções auxiliares\n",
    "- P(A | B):\n",
    "    - Função auxiliar para fazer `probabilidade condicional`\n",
    "- P(A):\n",
    "    - Função auxiliar para fazer `probabilidade` de classe/atributo"
   ]
  },
  {
   "cell_type": "code",
   "execution_count": 3,
   "metadata": {},
   "outputs": [],
   "source": [
    "def load_ds_nb(ds):\n",
    "    result = {}\n",
    "    list_col = list(ds)\n",
    "    list_col.pop(0)\n",
    "    list_col.pop()\n",
    "\n",
    "    list_val_tg = list(ds['Target'].unique())\n",
    "    \n",
    "    #Cache para P(h)\n",
    "    for tg in list_val_tg:\n",
    "        result['Target-'+str(tg)] = ds['Target'][ds['Target']==tg].count()/ds['Target'].count()\n",
    "        \n",
    "    #Cache para P (A| h)\n",
    "    for col in list_col:\n",
    "        list_value = list(ds[col].unique())\n",
    "        for col_val in list_value:\n",
    "            for tg in list_val_tg:\n",
    "                result[col+'-'+str(col_val)+'-'+str(tg)] = ds[col][(ds[col]==col_val) & (ds['Target']==tg)].count()/ds['Target'][ds['Target']==tg].count()\n",
    "\n",
    "    return result"
   ]
  },
  {
   "cell_type": "code",
   "execution_count": 4,
   "metadata": {},
   "outputs": [],
   "source": [
    "def p_given_q(cache, p, q, val_p, val_q):\n",
    "    return cache[p+'-'+str(val_p)+'-'+str(val_q)]\n",
    "\n",
    "def p_q(cache, p,val_p):\n",
    "    #ds[p][ds[p]==val_p].count()/ds[p].count()\n",
    "    return cache[p+'-'+str(val_p)]"
   ]
  },
  {
   "cell_type": "markdown",
   "metadata": {},
   "source": [
    "### Implementação do Classificador Naive Bayes\n",
    "A função recebe a variavel ``Cache`` contendo a combinação das operações que irão ser utilizada para o calculo.\n",
    "\n",
    "O algoritmo para implementar o Naive Bayes, foi utilizando interando todos o dataset de ``teste`` e fazendo a seguinte formula ``P(atributo_1 | classe) x P(atributo_2 | classe) ... P(atributo_n | classe) x P(classe)`` e para todas as classes utilizando o **Maximum Likelihood** para buscar a classe com maior probabilidade e predizer o resultado.\n",
    "Com o resultado desse dado eu faço a verificação com cada dataset de teste da interação"
   ]
  },
  {
   "cell_type": "code",
   "execution_count": 5,
   "metadata": {
    "scrolled": true
   },
   "outputs": [],
   "source": [
    "def naive_bayes(cache, dataset_test):\n",
    "    count_correct = 0\n",
    "    count_incorrect = 0\n",
    "    \n",
    "    count_correct_zero = 0\n",
    "    count_correct_one = 0\n",
    "    count_incorrect_zero = 0\n",
    "    count_incorrect_one = 0\n",
    "    \n",
    "    for index, row in dataset_test.iterrows():\n",
    "        classes = list()\n",
    "        \n",
    "        # Essa repetição das operações foram feitas para ter menos interações e poder ser mais perfomatico.\n",
    "        prob_zero  = p_q(cache,'Target',0)\n",
    "        prob_zero *= p_given_q(cache,'Genero','Target',row['Genero'],0)\n",
    "        prob_zero *= p_given_q(cache,'Idade','Target',row['Idade'],0)\n",
    "        prob_zero *= p_given_q(cache,'Escolaridade','Target',row['Escolaridade'],0)\n",
    "        prob_zero *= p_given_q(cache,'Profissao','Target',row['Profissao'],0)\n",
    "            \n",
    "        prob_one  = p_q(cache,'Target',1)\n",
    "        prob_one *= p_given_q(cache,'Genero','Target',row['Genero'],1)\n",
    "        prob_one *= p_given_q(cache,'Idade','Target',row['Idade'],1)\n",
    "        prob_one *= p_given_q(cache,'Escolaridade','Target',row['Escolaridade'],1)\n",
    "        prob_one *= p_given_q(cache,'Profissao','Target',row['Profissao'],1)\n",
    "\n",
    "        #Result\n",
    "        classes = [(0, prob_zero), (1, prob_one)]\n",
    "        \n",
    "        result = max(classes, key=lambda p: p[1])\n",
    "        if result[0] == row['Target']:\n",
    "            count_correct += 1\n",
    "            if result[0] == 0:\n",
    "                count_correct_zero += 1\n",
    "            else:\n",
    "                count_correct_one += 1\n",
    "        else:\n",
    "            count_incorrect += 1\n",
    "            if result[0] == 0:\n",
    "                count_incorrect_zero += 1\n",
    "            else:\n",
    "                count_incorrect_one += 1\n",
    "    return (count_correct, count_incorrect, count_correct_zero, count_correct_one, count_incorrect_zero, count_incorrect_one)"
   ]
  },
  {
   "cell_type": "markdown",
   "metadata": {
    "scrolled": true
   },
   "source": [
    "### Treinar e testar\n",
    "\n",
    "Função que irá interar ``number`` vezes usando a função ``Naive Bayes`` e retornar os arrays contendo porcentagens de acerto.\n",
    "\n",
    "A cada interação ele embaralha o dataset aleatóriamente e divide ele em uma porcentagem (o proprio pandas faz isso) setada na assinatura da função."
   ]
  },
  {
   "cell_type": "code",
   "execution_count": 6,
   "metadata": {
    "scrolled": true
   },
   "outputs": [],
   "source": [
    "def run_nth(percentage, number):\n",
    "    percentages_correct = list()\n",
    "    prob_correct_zero = list()\n",
    "    prob_correct_one = list()\n",
    "    \n",
    "    for i in range(0,number):\n",
    "\n",
    "        # Essa função pega o dataset e separa uma fração dele, e reordena\n",
    "        ds_train=dataset.sample(frac=percentage, random_state=i*randint(0,100)).reset_index()\n",
    "        ds_test=dataset.drop(ds_train.index) # Pega o que sobrou do dataset de treino\n",
    "        \n",
    "        #Cria cache para Naive Bayes\n",
    "        cache = load_ds_nb(ds_train)\n",
    "        \n",
    "        correct, incorrect, correct_zero, correct_one, incorrect_zero, incorrect_one = naive_bayes(cache, ds_test)\n",
    "\n",
    "        if (correct_zero+incorrect_zero) != 0:\n",
    "            prob_correct_zero.append(correct_zero/(correct_zero+incorrect_zero))\n",
    "        \n",
    "        if (correct_one+incorrect_one) != 0:\n",
    "            prob_correct_one.append(correct_one/(correct_one+incorrect_one))\n",
    "        \n",
    "        percentages_correct.append(correct/(correct+incorrect))\n",
    "    \n",
    "        \n",
    "    return (percentages_correct, prob_correct_zero, prob_correct_one)"
   ]
  },
  {
   "cell_type": "markdown",
   "metadata": {},
   "source": [
    "### Trata o resultado do treino e teste\n",
    "Faz o calculo da porcentagem de acordo com a quantidade de corretas e incorretas"
   ]
  },
  {
   "cell_type": "code",
   "execution_count": 7,
   "metadata": {},
   "outputs": [],
   "source": [
    "percents, prob_zero, prob_one = run_nth(0.8,30)"
   ]
  },
  {
   "cell_type": "markdown",
   "metadata": {},
   "source": [
    "### Taxa de Acerto"
   ]
  },
  {
   "cell_type": "code",
   "execution_count": 8,
   "metadata": {},
   "outputs": [
    {
     "name": "stdout",
     "output_type": "stream",
     "text": [
      "Taxa de Acerto\n",
      "------------------\n",
      "Minimo: 0.765\n",
      "Máxima: 0.79\n",
      "Média: 0.7803333333333334\n"
     ]
    }
   ],
   "source": [
    "taxa_acerto_min=np.min(percents)\n",
    "taxa_acerto_max=np.max(percents)\n",
    "taxa_acerto_med=np.mean(percents)\n",
    "\n",
    "print('Taxa de Acerto')\n",
    "print('------------------')\n",
    "print('Minimo: ' + str(taxa_acerto_min))\n",
    "print('Máxima: ' + str(taxa_acerto_max))\n",
    "print('Média: '+str(taxa_acerto_med))"
   ]
  },
  {
   "cell_type": "markdown",
   "metadata": {},
   "source": [
    "### Taxa de Acerto Médio por Classe"
   ]
  },
  {
   "cell_type": "code",
   "execution_count": 9,
   "metadata": {},
   "outputs": [
    {
     "name": "stdout",
     "output_type": "stream",
     "text": [
      "Taxa de Acerto Médio por classe\n",
      "------------------\n",
      "Classe 0: 0.6864774681802547\n",
      "Classe 1: 0.7910101270576245\n"
     ]
    }
   ],
   "source": [
    "taxa_acerto_zero = np.mean(prob_zero)\n",
    "taxa_acerto_one = np.mean(prob_one)\n",
    "\n",
    "print('Taxa de Acerto Médio por classe')\n",
    "print('------------------')\n",
    "print('Classe 0: ' + str(taxa_acerto_zero))\n",
    "print('Classe 1: ' + str(taxa_acerto_one))"
   ]
  },
  {
   "cell_type": "markdown",
   "metadata": {},
   "source": [
    "### Produzir os dados para gerar o gráfico\n",
    "Nessa parte ele interaje de **80/20** até **20/80** os datasets de treino e teste, a cada porcentagem ele calcula as medias de probabilidade de acerto 30 vezes.\n",
    "\n",
    "**OBS: ESSE TRECHO DEMORA CERCA DE 30 minutos para executar.**"
   ]
  },
  {
   "cell_type": "code",
   "execution_count": 10,
   "metadata": {},
   "outputs": [],
   "source": [
    "mean_percents = list()\n",
    "percents_axis = list()\n",
    "for n in range(20,81):\n",
    "    p, pc, pi = run_nth(n/100, 30)\n",
    "    mean_percents.append(np.mean(p))\n",
    "    percents_axis.append(n)\n",
    "    "
   ]
  },
  {
   "cell_type": "markdown",
   "metadata": {},
   "source": [
    "### Gráfico de acerto\n",
    "Gráfico contendo a ``Probabilidade de acerto X Porcentagem do dataset de treino``.\n"
   ]
  },
  {
   "cell_type": "code",
   "execution_count": 11,
   "metadata": {},
   "outputs": [
    {
     "data": {
      "image/png": "[encoded data removed]",
      "text/plain": [
       "<Figure size 1008x288 with 1 Axes>"
      ]
     },
     "metadata": {},
     "output_type": "display_data"
    }
   ],
   "source": [
    "fig = plt.figure(1, (14,4))\n",
    "ax = fig.add_subplot(1,1,1)\n",
    "percents_axis = [x / 100 for x in percents_axis]\n",
    "ax.plot(percents_axis, mean_percents, label='Taxa de acerto')\n",
    "ax.set_title('Gráfico de acerto')\n",
    "\n",
    "ax.xaxis.set_major_formatter(mtick.PercentFormatter(1))\n",
    "ax.yaxis.set_major_formatter(mtick.PercentFormatter(1))\n",
    "ax.set_ylabel('Probabilidade de acerto')\n",
    "\n",
    "ax.set_xlabel('Porcentagem do dataset de treino')\n",
    "\n",
    "plt.grid(True)\n",
    "plt.legend()\n",
    "plt.show()"
   ]
  },
  {
   "cell_type": "markdown",
   "metadata": {},
   "source": [
    "Para cada porcentagem do dataset de treino, o restante dos dados foram utilizado para teste.\n",
    "Por exemplo, caso eu tenhoa usado 20% para treino, 80% foram utilizado para teste (Não está explicito no gráfico)"
   ]
  },
  {
   "cell_type": "code",
   "execution_count": null,
   "metadata": {},
   "outputs": [],
   "source": []
  }
 ],
 "metadata": {
  "kernelspec": {
   "display_name": "Python 3",
   "language": "python",
   "name": "python3"
  },
  "language_info": {
   "codemirror_mode": {
    "name": "ipython",
    "version": 3
   },
   "file_extension": ".py",
   "mimetype": "text/x-python",
   "name": "python",
   "nbconvert_exporter": "python",
   "pygments_lexer": "ipython3",
   "version": "3.6.5"
  }
 },
 "nbformat": 4,
 "nbformat_minor": 2
}
