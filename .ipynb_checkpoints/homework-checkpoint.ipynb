{
 "cells": [
  {
   "cell_type": "markdown",
   "metadata": {},
   "source": [
    "# Naive Bayes Implementation\n",
    "\n",
    "Referencias:\n",
    "- http://artificiencia.com/aprenda/algoritmo-naive-bayes/\n",
    "- https://chrisalbon.com/machine_learning/naive_bayes/naive_bayes_classifier_from_scratch/\n",
    "- https://hackinganalytics.com/2016/10/13/desvendando-o-classificador-naive-bayes/\n",
    "- https://towardsdatascience.com/naive-bayes-in-machine-learning-f49cc8f831b4"
   ]
  },
  {
   "cell_type": "code",
   "execution_count": 33,
   "metadata": {
    "scrolled": false
   },
   "outputs": [
    {
     "data": {
      "text/html": [
       "<div>\n",
       "<style scoped>\n",
       "    .dataframe tbody tr th:only-of-type {\n",
       "        vertical-align: middle;\n",
       "    }\n",
       "\n",
       "    .dataframe tbody tr th {\n",
       "        vertical-align: top;\n",
       "    }\n",
       "\n",
       "    .dataframe thead th {\n",
       "        text-align: right;\n",
       "    }\n",
       "</style>\n",
       "<table border=\"1\" class=\"dataframe\">\n",
       "  <thead>\n",
       "    <tr style=\"text-align: right;\">\n",
       "      <th></th>\n",
       "      <th>Weather</th>\n",
       "      <th>Car</th>\n",
       "      <th>Target</th>\n",
       "    </tr>\n",
       "  </thead>\n",
       "  <tbody>\n",
       "    <tr>\n",
       "      <th>0</th>\n",
       "      <td>sunny</td>\n",
       "      <td>working</td>\n",
       "      <td>1</td>\n",
       "    </tr>\n",
       "  </tbody>\n",
       "</table>\n",
       "</div>"
      ],
      "text/plain": [
       "  Weather      Car  Target\n",
       "0   sunny  working       1"
      ]
     },
     "execution_count": 33,
     "metadata": {},
     "output_type": "execute_result"
    }
   ],
   "source": [
    "import pandas as pd\n",
    "import numpy as np\n",
    "from random import randint\n",
    "import matplotlib.pyplot as plt\n",
    "import matplotlib.ticker as mtick\n",
    "import warnings\n",
    "warnings.filterwarnings('ignore')\n",
    "\n",
    "\n",
    "dataset = pd.read_csv('dataset/dataset_test.csv')\n",
    "\n",
    "dataset.head(1)"
   ]
  },
  {
   "cell_type": "markdown",
   "metadata": {},
   "source": [
    "### Funções auxiliares\n",
    "- P(A | B):\n",
    "    - Função auxiliar para fazer `probabilidade condicional`\n",
    "- P(A):\n",
    "    - Função auxiliar para fazer `probabilidade` de classe/atributo"
   ]
  },
  {
   "cell_type": "code",
   "execution_count": 2,
   "metadata": {},
   "outputs": [],
   "source": [
    "def p_given_q(ds, p, q, val_p, val_q):\n",
    "    p_f_zero = ds[(dataset[p]==val_p) & (ds[q]==val_q)][p].count()/ds[p][ds[q]==val_q].count()\n",
    "    return p_f_zero\n",
    "\n",
    "def p_q(ds, p,val_p):\n",
    "    return ds[p][ds[p]==val_p].count()/ds[p].count()"
   ]
  },
  {
   "cell_type": "markdown",
   "metadata": {},
   "source": [
    "### Variaveis auxiliares"
   ]
  },
  {
   "cell_type": "code",
   "execution_count": 3,
   "metadata": {},
   "outputs": [],
   "source": [
    "\n",
    "# Lista com todas as colunas menos Target\n",
    "list_columns = list(dataset)\n",
    "list_columns.pop()\n",
    "\n",
    "# Lista de classes do target (0 e 1)\n",
    "list_value_tg = list(dataset['Target'].unique())"
   ]
  },
  {
   "cell_type": "markdown",
   "metadata": {},
   "source": [
    "### Implementação do Naive Bayes\n",
    "\n",
    "Para a criação dos dados, interajo 30 vezes, e para cada interação, utilizando uma variavel de controle ``i`` da primeira interação, eu utilizo um calculo matemático (``(80*i/30+20*(30-i)/30)/100``) que varia entre 20% até 80%.\n",
    "Assim eu consigo montar 2 datasets, um de treino e outro para teste.\n",
    "Para cada interação, ele vai reordenando o dataset de maneira aleatória (pandas já faz isso automaticamente) para treinar e para testar.\n",
    "\n",
    "#### Treinar e Testar\n",
    "O algoritmo para implementar o Naive Bayes, foi utilizando interando todos o dataset de ``teste`` e fazendo a seguinte formula ``P(atributo_1 | classe) x P(atributo_2 | classe) ... P(atributo_n | classe) x P(classe)`` e para todas as classes utilizando o **Maximum Likelihood** para buscar a classe com maior probabilidade e predizer o resultado.\n",
    "Com o resultado desse dado eu faço a verificação com cada dataset de teste da interação"
   ]
  },
  {
   "cell_type": "code",
   "execution_count": 17,
   "metadata": {
    "scrolled": true
   },
   "outputs": [],
   "source": [
    "def naive_bayes(dataset_train, dataset_test):\n",
    "    count_correct = 0\n",
    "    count_incorrect = 0\n",
    "    \n",
    "    count_correct_zero = 0\n",
    "    cont_correct_one = 0\n",
    "    count_incorrect_zero = 0\n",
    "    count_incorrect_one = 0\n",
    "    \n",
    "    for index, row in dataset_test.iterrows():\n",
    "        classes = list()\n",
    "        for value_tg in list_value_tg:\n",
    "            prob = p_q(dataset_train,'Target',value_tg)\n",
    "            \n",
    "            # Multiplica cada atributo a variavel ``prob``\n",
    "            for column in list_columns:\n",
    "                prob *= p_given_q(dataset_train,column,'Target',row[column],value_tg)\n",
    "            classes.append((value_tg, prob))\n",
    "\n",
    "        #Result\n",
    "        result = max(classes,key=lambda p: p[1])\n",
    "        if result[0] == row['Target']:\n",
    "            count_correct += 1\n",
    "            if result[0] == 0:\n",
    "                count_correct_zero += 1\n",
    "            else:\n",
    "                count_correct_one += 1\n",
    "        else:\n",
    "            count_incorrect += 1\n",
    "            if result[0] == 0:\n",
    "                count_incorrect_zero += 1\n",
    "            else:\n",
    "                count_incorrect_one += 1\n",
    "    return (count_correct, count_incorrect, count_correct_zero, cont_correct_one, count_incorrect_zero, count_incorrect_one)"
   ]
  },
  {
   "cell_type": "code",
   "execution_count": 42,
   "metadata": {
    "scrolled": true
   },
   "outputs": [],
   "source": [
    "def run_nth(percentage, number):\n",
    "    percentages_correct = list()\n",
    "    prob_correct_zero = list()\n",
    "    prob_correct_one = list()\n",
    "    \n",
    "    for i in range(0,number):\n",
    "\n",
    "        # Essa função pega o dataset e separa uma fração dele, e reordena\n",
    "        ds_train=dataset.sample(frac=percentage, random_state=i*randint(0,100)).reset_index()\n",
    "        ds_test=dataset.drop(ds_train.index) # Pega o que sobrou do dataset de treino\n",
    "\n",
    "        correct, incorrect, correct_zero, correct_one, incorrect_zero, incorrect_one = naive_bayes(ds_train,ds_test)\n",
    "        \n",
    "        if (correct_zero+incorrect_zero) != 0:\n",
    "            prob_correct_zero.append(correct_zero/(correct_zero+incorrect_zero))\n",
    "        \n",
    "        if (correct_one+incorrect_one):\n",
    "            prob_correct_one.append(correct_one/(correct_one+incorrect_one))\n",
    "        \n",
    "        percentages_correct.append(correct/(correct+incorrect))\n",
    "    \n",
    "        \n",
    "    return (percentages_correct, prob_correct_zero, prob_correct_one)"
   ]
  },
  {
   "cell_type": "markdown",
   "metadata": {},
   "source": [
    "### Trata o resultado do treino e teste\n",
    "Faz o calculo da porcentagem de acordo com a quantidade de corretas e incorretas"
   ]
  },
  {
   "cell_type": "code",
   "execution_count": 43,
   "metadata": {},
   "outputs": [],
   "source": [
    "percents, prob_zero, prob_one = run_nth(0.5,10)"
   ]
  },
  {
   "cell_type": "markdown",
   "metadata": {},
   "source": [
    "### Taxa de Acerto"
   ]
  },
  {
   "cell_type": "code",
   "execution_count": 44,
   "metadata": {},
   "outputs": [
    {
     "name": "stdout",
     "output_type": "stream",
     "text": [
      "Taxa de Acerto\n",
      "------------------\n",
      "Minimo: 0.2\n",
      "Máxima: 0.8\n",
      "Média: 0.5\n"
     ]
    }
   ],
   "source": [
    "taxa_acerto_min=np.min(percents)\n",
    "taxa_acerto_max=np.max(percents)\n",
    "taxa_acerto_med=np.mean(percents)\n",
    "\n",
    "print('Taxa de Acerto')\n",
    "print('------------------')\n",
    "print('Minimo: ' + str(taxa_acerto_min))\n",
    "print('Máxima: ' + str(taxa_acerto_max))\n",
    "print('Média: '+str(taxa_acerto_med))"
   ]
  },
  {
   "cell_type": "markdown",
   "metadata": {},
   "source": [
    "### Taxa de Acerto Médio por Classe"
   ]
  },
  {
   "cell_type": "code",
   "execution_count": 45,
   "metadata": {},
   "outputs": [
    {
     "name": "stdout",
     "output_type": "stream",
     "text": [
      "Taxa de Acerto Médio por classe\n",
      "------------------\n",
      "Classe 0: 1.0\n",
      "Classe 1: 0.0\n"
     ]
    }
   ],
   "source": [
    "taxa_acerto_zero = np.mean(prob_zero)\n",
    "taxa_acerto_one = np.mean(prob_one)\n",
    "\n",
    "print('Taxa de Acerto Médio por classe')\n",
    "print('------------------')\n",
    "print('Classe 0: ' + str(taxa_acerto_zero))\n",
    "print('Classe 1: ' + str(taxa_acerto_one))"
   ]
  },
  {
   "cell_type": "markdown",
   "metadata": {},
   "source": [
    "### Gráfico de acerto\n",
    "Gráfico contendo a ``Probabilidade de acerto X Porcentagem do dataset de treino``.\n"
   ]
  },
  {
   "cell_type": "code",
   "execution_count": 46,
   "metadata": {},
   "outputs": [
    {
     "data": {
      "image/png": "[encoded data removed]",
      "text/plain": [
       "<Figure size 504x288 with 1 Axes>"
      ]
     },
     "metadata": {},
     "output_type": "display_data"
    }
   ],
   "source": [
    "fig = plt.figure(1, (7,4))\n",
    "ax = fig.add_subplot(1,1,1)\n",
    "\n",
    "ax.plot(percents)\n",
    "ax.set_title('Gráfico de acerto')\n",
    "\n",
    "percentFormat = mtick.PercentFormatter(1)\n",
    "\n",
    "ax.xaxis.set_major_formatter(percentFormat)\n",
    "ax.yaxis.set_major_formatter(percentFormat)\n",
    "ax.set_ylabel('Probabilidade de acerto')\n",
    "\n",
    "ax.set_xlabel('Porcentagem do dataset de treino')\n",
    "\n",
    "plt.grid(True)\n",
    "plt.show()"
   ]
  },
  {
   "cell_type": "markdown",
   "metadata": {},
   "source": [
    "Para cada porcentagem do dataset de treino, o restante dos dados foram utilizado para teste.\n",
    "Por exemplo, caso eu tenhoa usado 20% para treino, 80% foram utilizado para teste (Não está explicito no gráfico)"
   ]
  },
  {
   "cell_type": "code",
   "execution_count": null,
   "metadata": {},
   "outputs": [],
   "source": []
  }
 ],
 "metadata": {
  "kernelspec": {
   "display_name": "Python 3",
   "language": "python",
   "name": "python3"
  },
  "language_info": {
   "codemirror_mode": {
    "name": "ipython",
    "version": 3
   },
   "file_extension": ".py",
   "mimetype": "text/x-python",
   "name": "python",
   "nbconvert_exporter": "python",
   "pygments_lexer": "ipython3",
   "version": "3.6.5"
  }
 },
 "nbformat": 4,
 "nbformat_minor": 2
}
