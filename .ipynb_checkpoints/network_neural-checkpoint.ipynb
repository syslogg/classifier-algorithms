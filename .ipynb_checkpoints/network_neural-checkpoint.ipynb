{
 "cells": [
  {
   "cell_type": "code",
   "execution_count": 1,
   "metadata": {},
   "outputs": [
    {
     "data": {
      "text/html": [
       "<div>\n",
       "<table border=\"1\" class=\"dataframe\">\n",
       "  <thead>\n",
       "    <tr style=\"text-align: right;\">\n",
       "      <th></th>\n",
       "      <th>X</th>\n",
       "      <th>Y</th>\n",
       "      <th>Class</th>\n",
       "    </tr>\n",
       "  </thead>\n",
       "  <tbody>\n",
       "    <tr>\n",
       "      <th>0</th>\n",
       "      <td>0.3</td>\n",
       "      <td>0.70</td>\n",
       "      <td>1</td>\n",
       "    </tr>\n",
       "    <tr>\n",
       "      <th>1</th>\n",
       "      <td>-0.6</td>\n",
       "      <td>0.30</td>\n",
       "      <td>0</td>\n",
       "    </tr>\n",
       "    <tr>\n",
       "      <th>2</th>\n",
       "      <td>-0.1</td>\n",
       "      <td>-0.80</td>\n",
       "      <td>0</td>\n",
       "    </tr>\n",
       "    <tr>\n",
       "      <th>3</th>\n",
       "      <td>0.1</td>\n",
       "      <td>-0.45</td>\n",
       "      <td>1</td>\n",
       "    </tr>\n",
       "  </tbody>\n",
       "</table>\n",
       "</div>"
      ],
      "text/plain": [
       "     X     Y  Class\n",
       "0  0.3  0.70      1\n",
       "1 -0.6  0.30      0\n",
       "2 -0.1 -0.80      0\n",
       "3  0.1 -0.45      1"
      ]
     },
     "execution_count": 3,
     "metadata": {},
     "output_type": "execute_result"
    }
   ],
   "source": [
    "import pandas as pd\n",
    "import numpy as np\n",
    "#from random import randint\n",
    "import matplotlib.pyplot as plt\n",
    "#import matplotlib.ticker as mtick\n",
    "import warnings\n",
    "#import seaborn as sns\n",
    "\n",
    "warnings.filterwarnings('ignore')\n",
    "\n",
    "ds_or = pd.read_csv('dataset/ds_or_gate.csv')\n",
    "ds_t = pd.read_csv('dataset/ds_t.csv')\n",
    "ds_iris = pd.read_csv('dataset/iris.csv')\n",
    "ds_t.head()"
   ]
  },
  {
   "cell_type": "code",
   "execution_count": 4,
   "metadata": {},
   "outputs": [],
   "source": [
    "# Calculate of neuron with sums\n",
    "# W(T)*X = u\n",
    "# x0*w0 + x1*w1 + x2*w2 ... + xp*wp = u\n",
    "# Returned:\n",
    "# S = { u >= 0 -> Y = 1 | u < 0 -> Y = 0 }\n",
    "def calculate_neuron(X, W):\n",
    "    u = W.dot(X.T) # It makes X*W(T)\n",
    "    y = 1 if u >= 0 else 0 # If u > 0 then y = 1 if not, y = 0\n",
    "    return y\n",
    "\n",
    "def calculate_error(Y, Expected):\n",
    "    # e = d - y\n",
    "    error = Expected - Y\n",
    "    return error\n",
    "\n",
    "def calculate_new_w(X, Y, W, Expected, rate):\n",
    "    # 𝒘(𝑡 + 1) = 𝒘 (𝑡) + 𝜂*𝑒(𝑡)*𝒙(𝑡)\n",
    "    w_new = W + rate * calculate_error(Y, Expected) * X\n",
    "    return w_new\n"
   ]
  },
  {
   "cell_type": "code",
   "execution_count": 5,
   "metadata": {},
   "outputs": [],
   "source": [
    "def one_hot_encoding(classes):\n",
    "    cl_onehot = np.zeros((len(classes),len(classes)),dtype=int)\n",
    "    np.fill_diagonal(cl_onehot,1)\n",
    "    r = [(classes[i], cl) for i, cl in enumerate(cl_onehot)]\n",
    "    return r\n",
    "\n",
    "def encode_expected(expected, encoded_class):\n",
    "    return [ list(filter(lambda e: e[0] == x, encoded_class))[0][1] for x in expected ]\n",
    "\n",
    "def frob_matrix(W, W_old):\n",
    "    # |A|frob = raiz ( tr(Transp(A)*A) )\n",
    "    W = np.array(W)\n",
    "    W_old = np.array(W_old)\n",
    "    A = W - W_old\n",
    "    f = np.sqrt(np.trace( A.T.dot(A) ))\n",
    "    return f\n",
    "def encode_class(ds):\n",
    "    return one_hot_encoding(pd.unique(ds.iloc[:,-1:].values.flatten()))\n",
    "\n",
    "# Perceptron Simples\n",
    "def mount_neural_network(ds, wInit, rate, encoded_class):\n",
    "    #W = np.array([wInit])\n",
    "    #w_ = []\n",
    "    \n",
    "    #encoded_class = one_hot_encoding(pd.unique(ds.iloc[:,-1:].values.flatten()))\n",
    "    expected = ds.iloc[:,-1:].values.flatten()\n",
    "    expected_encoded = encode_expected(expected, encoded_class)\n",
    "    \n",
    "    ds_no_class = ds.iloc[:,:-1]\n",
    "    ds_no_class.insert(0, 'bias', -1)\n",
    "    \n",
    "    W_ALL = np.array([wInit.copy() for i in range(0, len(encoded_class))])\n",
    "    \n",
    "    i = 0\n",
    "    while True:\n",
    "        #print('\\n+++++++++++++++++++++++ Rodada N: '+ str(i+1) + ' +++++++++++++++++++++++')\n",
    "        W_old = W_ALL.copy()\n",
    "        for e in range(0, len(encoded_class)):\n",
    "            W = W_ALL[e]\n",
    "            X = ds_no_class.values[i % len(expected)]\n",
    "            y = calculate_neuron(np.array([X]), W)\n",
    "            \n",
    "            exp = expected_encoded[i % len(expected)][e]\n",
    "            \n",
    "            new_W = calculate_new_w(np.array(X), y,W, exp, rate)\n",
    "            W_ALL[e] = new_W\n",
    "            \n",
    "            #print('------------- e n: '+str(e)+' --------------')\n",
    "            #print('W:' + str(W))\n",
    "            #print('Entrada (X):' + str(X))\n",
    "            #print('Achado (Y): '+str(y))\n",
    "            #print('Esperado (Expected): '+str(exp))\n",
    "            #print(W_ALL)\n",
    "            \n",
    "        i += 1\n",
    "        if frob_matrix(W_ALL, W_old) == 0:\n",
    "            break\n",
    "    return W_ALL\n"
   ]
  },
  {
   "cell_type": "code",
   "execution_count": 6,
   "metadata": {},
   "outputs": [
    {
     "data": {
      "text/plain": [
       "array([[-1.   ,  2.55 ,  1.725],\n",
       "       [ 0.5  , -0.8  ,  0.325]])"
      ]
     },
     "execution_count": 6,
     "metadata": {},
     "output_type": "execute_result"
    }
   ],
   "source": [
    "encoded_class = encode_class(ds_t)\n",
    "W_ACH = mount_neural_network(ds_t,[1.,2.,3.],0.5,encoded_class)\n",
    "W_ACH"
   ]
  },
  {
   "cell_type": "code",
   "execution_count": 28,
   "metadata": {},
   "outputs": [],
   "source": [
    "#WW = np.array([0.  , 2.1 , 2.55 ])"
   ]
  },
  {
   "cell_type": "code",
   "execution_count": 10,
   "metadata": {},
   "outputs": [],
   "source": [
    "def calculate_network(input_, Ws):\n",
    "    return [ calculate_neuron(np.array([-1] + input_),Wc) for Wc in Ws ]"
   ]
  },
  {
   "cell_type": "code",
   "execution_count": 12,
   "metadata": {},
   "outputs": [
    {
     "data": {
      "text/plain": [
       "[0, 1]"
      ]
     },
     "execution_count": 12,
     "metadata": {},
     "output_type": "execute_result"
    }
   ],
   "source": [
    "calculate_network([-0.6,0.3],W_ACH)"
   ]
  },
  {
   "cell_type": "code",
   "execution_count": null,
   "metadata": {},
   "outputs": [],
   "source": [
    "np.trace(x - y)"
   ]
  },
  {
   "cell_type": "code",
   "execution_count": 9,
   "metadata": {},
   "outputs": [
    {
     "data": {
      "text/plain": [
       "[1, 2, 6]"
      ]
     },
     "execution_count": 9,
     "metadata": {},
     "output_type": "execute_result"
    }
   ],
   "source": [
    "[1,2] + [6]"
   ]
  },
  {
   "cell_type": "code",
   "execution_count": null,
   "metadata": {},
   "outputs": [],
   "source": [
    "np.sqrt(9)"
   ]
  },
  {
   "cell_type": "code",
   "execution_count": 11,
   "metadata": {},
   "outputs": [
    {
     "data": {
      "text/plain": [
       "5"
      ]
     },
     "execution_count": 11,
     "metadata": {},
     "output_type": "execute_result"
    }
   ],
   "source": [
    "np.trace(np.array([[1,2],[1,2]]).T * (np.array([[1,2],[1,2]])))"
   ]
  },
  {
   "cell_type": "code",
   "execution_count": null,
   "metadata": {},
   "outputs": [],
   "source": []
  },
  {
   "cell_type": "code",
   "execution_count": null,
   "metadata": {},
   "outputs": [],
   "source": []
  },
  {
   "cell_type": "code",
   "execution_count": null,
   "metadata": {},
   "outputs": [],
   "source": []
  }
 ],
 "metadata": {
  "kernelspec": {
   "display_name": "Python 3",
   "language": "python",
   "name": "python3"
  },
  "language_info": {
   "codemirror_mode": {
    "name": "ipython",
    "version": 3
   },
   "file_extension": ".py",
   "mimetype": "text/x-python",
   "name": "python",
   "nbconvert_exporter": "python",
   "pygments_lexer": "ipython3",
   "version": "3.6.5"
  }
 },
 "nbformat": 4,
 "nbformat_minor": 2
}
