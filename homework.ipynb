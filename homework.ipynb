{
 "cells": [
  {
   "cell_type": "markdown",
   "metadata": {},
   "source": [
    "# Naive Bayes Implementation\n",
    "\n",
    "Referencias:\n",
    "- http://artificiencia.com/aprenda/algoritmo-naive-bayes/\n",
    "- https://chrisalbon.com/machine_learning/naive_bayes/naive_bayes_classifier_from_scratch/ (DONE)\n",
    "- https://hackinganalytics.com/2016/10/13/desvendando-o-classificador-naive-bayes/ (DONE)\n",
    "- https://towardsdatascience.com/naive-bayes-in-machine-learning-f49cc8f831b4\n",
    "\n",
    "\n",
    "1. Dado um dataset, calcular probabilidade de cada classe\n",
    "    - P(Jogar = Sim) = 9/14;\n",
    "    - p(Jogar = Nao) = 5/14;\n",
    "2. Calcular probabilidade de cada atributo\n",
    "    - P(Genero = Sol | Target = Sim) = 2/9;\n",
    "    - Continua...\n",
    "    \n",
    "    \n",
    "## Dúvidas\n",
    "R: Sobre o treinamento, o que é o treinamento do Navie Bayes.<br>\n",
    "R: Treinamento é as `probabilidade condicional`"
   ]
  },
  {
   "cell_type": "code",
   "execution_count": 1,
   "metadata": {
    "scrolled": false
   },
   "outputs": [
    {
     "data": {
      "text/html": [
       "<div>\n",
       "<style scoped>\n",
       "    .dataframe tbody tr th:only-of-type {\n",
       "        vertical-align: middle;\n",
       "    }\n",
       "\n",
       "    .dataframe tbody tr th {\n",
       "        vertical-align: top;\n",
       "    }\n",
       "\n",
       "    .dataframe thead th {\n",
       "        text-align: right;\n",
       "    }\n",
       "</style>\n",
       "<table border=\"1\" class=\"dataframe\">\n",
       "  <thead>\n",
       "    <tr style=\"text-align: right;\">\n",
       "      <th></th>\n",
       "      <th>Genero</th>\n",
       "      <th>Idade</th>\n",
       "      <th>Escolaridade</th>\n",
       "      <th>Profissao</th>\n",
       "      <th>Target</th>\n",
       "    </tr>\n",
       "  </thead>\n",
       "  <tbody>\n",
       "    <tr>\n",
       "      <th>0</th>\n",
       "      <td>F</td>\n",
       "      <td>a - Ate 25 anos</td>\n",
       "      <td>Fundamental</td>\n",
       "      <td>b</td>\n",
       "      <td>0</td>\n",
       "    </tr>\n",
       "  </tbody>\n",
       "</table>\n",
       "</div>"
      ],
      "text/plain": [
       "  Genero             Idade Escolaridade Profissao  Target\n",
       "0      F  a - Ate 25 anos   Fundamental         b       0"
      ]
     },
     "execution_count": 1,
     "metadata": {},
     "output_type": "execute_result"
    }
   ],
   "source": [
    "import pandas as pd\n",
    "import numpy as np\n",
    "\n",
    "dataset = pd.read_csv('dataset/dataset.csv')\n",
    "\n",
    "dataset.head(1)"
   ]
  },
  {
   "cell_type": "markdown",
   "metadata": {},
   "source": [
    "### Funções auxiliares\n",
    "- P(A | B):\n",
    "    - Função auxiliar para fazer `probabilidade condicional`\n",
    "- P(A):\n",
    "    - Função auxiliar para fazer `probabilidade condicional`"
   ]
  },
  {
   "cell_type": "code",
   "execution_count": 2,
   "metadata": {},
   "outputs": [],
   "source": [
    "def p_given_q(ds, p, q, val_p, val_q):\n",
    "    p_f_zero = ds[(dataset[p]==val_p) & (ds[q]==val_q)][p].count()/ds[p][ds[q]==val_q].count()\n",
    "    return p_f_zero\n",
    "\n",
    "def p_q(ds, p,val_p):\n",
    "    return ds[p][ds[p]==val_p].count()/ds[p].count()\n",
    "\n",
    "#p_given_q('Weather','Target','sunny',1)"
   ]
  },
  {
   "cell_type": "code",
   "execution_count": null,
   "metadata": {},
   "outputs": [],
   "source": []
  },
  {
   "cell_type": "code",
   "execution_count": null,
   "metadata": {},
   "outputs": [],
   "source": []
  },
  {
   "cell_type": "markdown",
   "metadata": {},
   "source": [
    "### Probabilidade de Target ser 0 ou 1"
   ]
  },
  {
   "cell_type": "code",
   "execution_count": 3,
   "metadata": {},
   "outputs": [],
   "source": [
    "# Counters\n",
    "n_tg_zero = dataset['Target'][dataset['Target']==0].count()\n",
    "n_tg_one = dataset['Target'][dataset['Target']==1].count()\n",
    "\n",
    "n_all = dataset['Target'].count()"
   ]
  },
  {
   "cell_type": "code",
   "execution_count": 4,
   "metadata": {},
   "outputs": [],
   "source": [
    "p_tg_zero = n_tg_zero/n_all\n",
    "p_tg_one = n_tg_one/n_all"
   ]
  },
  {
   "cell_type": "markdown",
   "metadata": {},
   "source": [
    "### Listas com possibilidades"
   ]
  },
  {
   "cell_type": "code",
   "execution_count": 5,
   "metadata": {},
   "outputs": [],
   "source": [
    "#Training\n",
    "\n",
    "list_columns = list(dataset)\n",
    "list_columns.pop()\n",
    "list_value_tg = list(dataset['Target'].unique())\n",
    "list_results = list()\n",
    "\n",
    "#for column in list_columns:\n",
    "#   for value_col in list(dataset[column].unique()):\n",
    "#       for value_tg in list_value_tg:\n",
    "#           list_results.append((column+'='+str(value_col)+' dado Target='+ str(value_tg), p_given_q(column,'Target',value_col,value_tg)))\n",
    "# list_results"
   ]
  },
  {
   "cell_type": "markdown",
   "metadata": {},
   "source": [
    "### Formula para predições\n",
    "MAP(h) = max (P (o|h) x P(h))"
   ]
  },
  {
   "cell_type": "code",
   "execution_count": 38,
   "metadata": {},
   "outputs": [
    {
     "name": "stdout",
     "output_type": "stream",
     "text": [
      "0\n"
     ]
    },
    {
     "name": "stderr",
     "output_type": "stream",
     "text": [
      "/Users/syslogg/anaconda3/lib/python3.6/site-packages/ipykernel_launcher.py:2: UserWarning: Boolean Series key will be reindexed to match DataFrame index.\n",
      "  \n"
     ]
    },
    {
     "name": "stdout",
     "output_type": "stream",
     "text": [
      "1\n",
      "2\n",
      "3\n",
      "4\n",
      "5\n",
      "6\n",
      "7\n",
      "8\n",
      "9\n",
      "10\n",
      "11\n",
      "12\n",
      "13\n",
      "14\n",
      "15\n",
      "16\n",
      "17\n",
      "18\n",
      "19\n",
      "20\n",
      "21\n",
      "22\n",
      "23\n",
      "24\n",
      "25\n",
      "26\n",
      "27\n",
      "28\n",
      "29\n"
     ]
    }
   ],
   "source": [
    "incorrect = list()\n",
    "correct = list()\n",
    "\n",
    "for i in range(0,30):\n",
    "    print(i)\n",
    "    ds_train=dataset.sample(frac=(80*i/30+20*(30-i)/30)/100,random_state=i*200).reset_index() # Varia de 20% até 80%\n",
    "    ds_test=dataset.drop(ds_train.index)\n",
    "\n",
    "    count_correct = 0\n",
    "    count_incorrect = 0\n",
    "\n",
    "    for index, row in ds_test.iterrows():\n",
    "        classes = list()\n",
    "        for value_tg in list_value_tg:\n",
    "            prob = p_q(ds_train,'Target',value_tg)\n",
    "            for column in list_columns:\n",
    "                prob *= p_given_q(ds_train,column,'Target',row[column],value_tg)\n",
    "            classes.append((value_tg, prob))\n",
    "\n",
    "        #Result\n",
    "        result = max(classes,key=lambda p: p[1])\n",
    "        if result[0] == row['Target']:\n",
    "            count_correct += 1\n",
    "        else:\n",
    "            count_incorrect += 1\n",
    "    correct.append(count_correct)\n",
    "    incorrect.append(count_incorrect)"
   ]
  },
  {
   "cell_type": "code",
   "execution_count": 39,
   "metadata": {},
   "outputs": [],
   "source": [
    "percents = list()\n",
    "\n",
    "for i in range(0, 30):\n",
    "    percents.append(correct[i]/(correct[i]+incorrect[i]))"
   ]
  },
  {
   "cell_type": "code",
   "execution_count": 40,
   "metadata": {},
   "outputs": [
    {
     "data": {
      "text/plain": [
       "[0.76,\n",
       " 0.7551282051282051,\n",
       " 0.756578947368421,\n",
       " 0.7472972972972973,\n",
       " 0.7319444444444444,\n",
       " 0.7585714285714286,\n",
       " 0.7573529411764706,\n",
       " 0.7560606060606061,\n",
       " 0.7609375,\n",
       " 0.7661290322580645,\n",
       " 0.7616666666666667,\n",
       " 0.753448275862069,\n",
       " 0.7625,\n",
       " 0.7648148148148148,\n",
       " 0.7634615384615384,\n",
       " 0.76,\n",
       " 0.7583333333333333,\n",
       " 0.7521739130434782,\n",
       " 0.7522727272727273,\n",
       " 0.75,\n",
       " 0.7525,\n",
       " 0.7552631578947369,\n",
       " 0.7583333333333333,\n",
       " 0.7617647058823529,\n",
       " 0.75625,\n",
       " 0.75,\n",
       " 0.7464285714285714,\n",
       " 0.7423076923076923,\n",
       " 0.7458333333333333,\n",
       " 0.75]"
      ]
     },
     "execution_count": 40,
     "metadata": {},
     "output_type": "execute_result"
    }
   ],
   "source": [
    "\n",
    "percents"
   ]
  },
  {
   "cell_type": "code",
   "execution_count": 41,
   "metadata": {},
   "outputs": [],
   "source": [
    "\n",
    "import matplotlib.pyplot as plt"
   ]
  },
  {
   "cell_type": "code",
   "execution_count": 42,
   "metadata": {},
   "outputs": [
    {
     "data": {
      "image/png": "[encoded data removed]",
      "text/plain": [
       "<Figure size 432x288 with 1 Axes>"
      ]
     },
     "metadata": {},
     "output_type": "display_data"
    }
   ],
   "source": [
    "plt.plot(percents)\n",
    "plt.show()"
   ]
  },
  {
   "cell_type": "code",
   "execution_count": null,
   "metadata": {},
   "outputs": [],
   "source": []
  },
  {
   "cell_type": "code",
   "execution_count": null,
   "metadata": {},
   "outputs": [],
   "source": []
  }
 ],
 "metadata": {
  "kernelspec": {
   "display_name": "Python 3",
   "language": "python",
   "name": "python3"
  },
  "language_info": {
   "codemirror_mode": {
    "name": "ipython",
    "version": 3
   },
   "file_extension": ".py",
   "mimetype": "text/x-python",
   "name": "python",
   "nbconvert_exporter": "python",
   "pygments_lexer": "ipython3",
   "version": "3.6.5"
  }
 },
 "nbformat": 4,
 "nbformat_minor": 2
}
