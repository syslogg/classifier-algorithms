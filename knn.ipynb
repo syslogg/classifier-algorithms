{
 "cells": [
  {
   "cell_type": "markdown",
   "metadata": {},
   "source": [
    "# Implementação K-NN\n",
    "\n",
    "Referencias:\n"
   ]
  },
  {
   "cell_type": "code",
   "execution_count": 1,
   "metadata": {
    "scrolled": false
   },
   "outputs": [
    {
     "data": {
      "text/html": [
       "<div>\n",
       "<style scoped>\n",
       "    .dataframe tbody tr th:only-of-type {\n",
       "        vertical-align: middle;\n",
       "    }\n",
       "\n",
       "    .dataframe tbody tr th {\n",
       "        vertical-align: top;\n",
       "    }\n",
       "\n",
       "    .dataframe thead th {\n",
       "        text-align: right;\n",
       "    }\n",
       "</style>\n",
       "<table border=\"1\" class=\"dataframe\">\n",
       "  <thead>\n",
       "    <tr style=\"text-align: right;\">\n",
       "      <th></th>\n",
       "      <th>sepal_length</th>\n",
       "      <th>sepal_width</th>\n",
       "      <th>petal_length</th>\n",
       "      <th>petal_width</th>\n",
       "      <th>species</th>\n",
       "    </tr>\n",
       "  </thead>\n",
       "  <tbody>\n",
       "    <tr>\n",
       "      <th>0</th>\n",
       "      <td>5.1</td>\n",
       "      <td>3.5</td>\n",
       "      <td>1.4</td>\n",
       "      <td>0.2</td>\n",
       "      <td>setosa</td>\n",
       "    </tr>\n",
       "    <tr>\n",
       "      <th>1</th>\n",
       "      <td>4.9</td>\n",
       "      <td>3.0</td>\n",
       "      <td>1.4</td>\n",
       "      <td>0.2</td>\n",
       "      <td>setosa</td>\n",
       "    </tr>\n",
       "    <tr>\n",
       "      <th>2</th>\n",
       "      <td>4.7</td>\n",
       "      <td>3.2</td>\n",
       "      <td>1.3</td>\n",
       "      <td>0.2</td>\n",
       "      <td>setosa</td>\n",
       "    </tr>\n",
       "    <tr>\n",
       "      <th>3</th>\n",
       "      <td>4.6</td>\n",
       "      <td>3.1</td>\n",
       "      <td>1.5</td>\n",
       "      <td>0.2</td>\n",
       "      <td>setosa</td>\n",
       "    </tr>\n",
       "    <tr>\n",
       "      <th>4</th>\n",
       "      <td>5.0</td>\n",
       "      <td>3.6</td>\n",
       "      <td>1.4</td>\n",
       "      <td>0.2</td>\n",
       "      <td>setosa</td>\n",
       "    </tr>\n",
       "  </tbody>\n",
       "</table>\n",
       "</div>"
      ],
      "text/plain": [
       "   sepal_length  sepal_width  petal_length  petal_width species\n",
       "0           5.1          3.5           1.4          0.2  setosa\n",
       "1           4.9          3.0           1.4          0.2  setosa\n",
       "2           4.7          3.2           1.3          0.2  setosa\n",
       "3           4.6          3.1           1.5          0.2  setosa\n",
       "4           5.0          3.6           1.4          0.2  setosa"
      ]
     },
     "execution_count": 1,
     "metadata": {},
     "output_type": "execute_result"
    }
   ],
   "source": [
    "import pandas as pd\n",
    "import numpy as np\n",
    "from random import randint\n",
    "import matplotlib.pyplot as plt\n",
    "import matplotlib.ticker as mtick\n",
    "import warnings\n",
    "warnings.filterwarnings('ignore')\n",
    "\n",
    "dataset = pd.read_csv('dataset/iris.csv')\n",
    "\n",
    "dataset.head()"
   ]
  },
  {
   "cell_type": "markdown",
   "metadata": {},
   "source": [
    "### Funções auxiliares\n",
    "- Euclidian distance"
   ]
  },
  {
   "cell_type": "code",
   "execution_count": 2,
   "metadata": {},
   "outputs": [],
   "source": [
    "def euclidian_distance(tuple_one, tuple_two):\n",
    "    ed = 0\n",
    "    for t1, t2 in zip(tuple_one, tuple_two):\n",
    "        ed += (t1-t2) ** 2\n",
    "    return np.sqrt(ed)"
   ]
  },
  {
   "cell_type": "markdown",
   "metadata": {},
   "source": [
    "### Variaveis auxiliares"
   ]
  },
  {
   "cell_type": "code",
   "execution_count": 24,
   "metadata": {},
   "outputs": [],
   "source": [
    "last_col = dataset.columns[len(dataset.columns)-1]\n",
    "k = 3\n",
    "classes = list(dataset[last_col].unique())"
   ]
  },
  {
   "cell_type": "markdown",
   "metadata": {},
   "source": [
    "### Implementação do Naive Bayes\n",
    "\n",
    "Para a criação dos dados, interajo 30 vezes, e para cada interação, utilizando uma variavel de controle ``i`` da primeira interação, eu utilizo um calculo matemático (``(80*i/30+20*(30-i)/30)/100``) que varia entre 20% até 80%.\n",
    "Assim eu consigo montar 2 datasets, um de treino e outro para teste.\n",
    "Para cada interação, ele vai reordenando o dataset de maneira aleatória (pandas já faz isso automaticamente) para treinar e para testar.\n",
    "\n",
    "#### Treinar e Testar\n",
    "O algoritmo para implementar o Naive Bayes, foi utilizando interando todos o dataset de ``teste`` e fazendo a seguinte formula ``P(atributo_1 | classe) x P(atributo_2 | classe) ... P(atributo_n | classe) x P(classe)`` e para todas as classes utilizando o **Maximum Likelihood** para buscar a classe com maior probabilidade e predizer o resultado.\n",
    "Com o resultado desse dado eu faço a verificação com cada dataset de teste da interação"
   ]
  },
  {
   "cell_type": "code",
   "execution_count": 26,
   "metadata": {
    "scrolled": true
   },
   "outputs": [],
   "source": [
    "def knn (dataset,value, kn):\n",
    "    tuple_d = [] #Tupla formato (row_index, distancia do valor)\n",
    "    for i,row in enumerate(dataset.values):\n",
    "        tuple_d.append((i, euclidian_distance(value,tuple(row))))\n",
    "    tuple_d = sorted(tuple_d,key= lambda x: x[1])\n",
    "    \n",
    "    minor = [tuple_d.pop(0) for i in range(0,kn)] # Array com os K menores valores da tupla\n",
    "\n",
    "    classes.sort()\n",
    "    print(minor)\n",
    "    counts_classes_dist = [0 for r in range(0,len(classes))]\n",
    "    for point in minor:\n",
    "        index_result = classes.index(dataset.loc[point[0]][last_col])\n",
    "        counts_classes_dist[index_result] += 1\n",
    "    \n",
    "    classes_points = list(enumerate(counts_classes_dist))\n",
    "    result = max(classes_points,key=lambda x: x[1])\n",
    "    return classes[result[0]]\n",
    "    \n",
    "    \n",
    "    \n",
    "def train(dataset_train, dataset_test):\n",
    "    count_correct = 0\n",
    "    count_incorrect = 0\n",
    "    \n",
    "    count_by_classes_correct = [0 for i in range(0,len(classes))]\n",
    "    count_by_classes_incorrect = [0 for i in range(0,len(classes))]\n",
    "    \n",
    "    for index, row in dataset_test.iterrows():\n",
    "        \n",
    "        tuple_t = list(row)\n",
    "        tuple_t.pop()\n",
    "        result = knn(dataset_train,tuple(tuple_t),k)\n",
    "        \n",
    "\n",
    "        #Result\n",
    "        if result == row[last_col]:\n",
    "            count_correct += 1\n",
    "            count_by_classes_correct[classes.index(result)] += 1\n",
    "        else:\n",
    "            count_incorrect += 1\n",
    "            count_by_classes_incorrect[classes.index(result)] += 1\n",
    "        \n",
    "    return (count_correct, count_incorrect, count_by_classes_correct, count_by_classes_incorrect)"
   ]
  },
  {
   "cell_type": "code",
   "execution_count": null,
   "metadata": {},
   "outputs": [],
   "source": []
  },
  {
   "cell_type": "code",
   "execution_count": 27,
   "metadata": {
    "scrolled": true
   },
   "outputs": [],
   "source": [
    "def run_nth(percentage, number):\n",
    "    percentages_correct = list()\n",
    "    \n",
    "    \n",
    "    for i in range(0,number):\n",
    "\n",
    "        # Essa função pega o dataset e separa uma fração dele, e reordena\n",
    "        ds_train=dataset.sample(frac=percentage, random_state=i*randint(0,100)).reset_index()\n",
    "        ds_test=dataset.drop(ds_train.index) # Pega o que sobrou do dataset de treino\n",
    "\n",
    "        correct, incorrect, correct_zero, correct_one, incorrect_zero, incorrect_one = naive_bayes(ds_train,ds_test)\n",
    "        \n",
    "        if (correct_zero+incorrect_zero) != 0:\n",
    "            prob_correct_zero.append(correct_zero/(correct_zero+incorrect_zero))\n",
    "        \n",
    "        if (correct_one+incorrect_one):\n",
    "            prob_correct_one.append(correct_one/(correct_one+incorrect_one))\n",
    "        \n",
    "        percentages_correct.append(correct/(correct+incorrect))\n",
    "    \n",
    "        \n",
    "    return (percentages_correct, prob_correct_zero, prob_correct_one)"
   ]
  },
  {
   "cell_type": "code",
   "execution_count": null,
   "metadata": {},
   "outputs": [],
   "source": []
  },
  {
   "cell_type": "markdown",
   "metadata": {},
   "source": [
    "### Trata o resultado do treino e teste\n",
    "Faz o calculo da porcentagem de acordo com a quantidade de corretas e incorretas"
   ]
  },
  {
   "cell_type": "code",
   "execution_count": null,
   "metadata": {},
   "outputs": [],
   "source": [
    "percents, prob_zero, prob_one = run_nth(0.5,10)"
   ]
  },
  {
   "cell_type": "markdown",
   "metadata": {},
   "source": [
    "### Taxa de Acerto"
   ]
  },
  {
   "cell_type": "code",
   "execution_count": null,
   "metadata": {},
   "outputs": [],
   "source": [
    "taxa_acerto_min=np.min(percents)\n",
    "taxa_acerto_max=np.max(percents)\n",
    "taxa_acerto_med=np.mean(percents)\n",
    "\n",
    "print('Taxa de Acerto')\n",
    "print('------------------')\n",
    "print('Minimo: ' + str(taxa_acerto_min))\n",
    "print('Máxima: ' + str(taxa_acerto_max))\n",
    "print('Média: '+str(taxa_acerto_med))"
   ]
  },
  {
   "cell_type": "markdown",
   "metadata": {},
   "source": [
    "### Taxa de Acerto Médio por Classe"
   ]
  },
  {
   "cell_type": "code",
   "execution_count": null,
   "metadata": {},
   "outputs": [],
   "source": [
    "taxa_acerto_zero = np.mean(prob_zero)\n",
    "taxa_acerto_one = np.mean(prob_one)\n",
    "\n",
    "print('Taxa de Acerto Médio por classe')\n",
    "print('------------------')\n",
    "print('Classe 0: ' + str(taxa_acerto_zero))\n",
    "print('Classe 1: ' + str(taxa_acerto_one))"
   ]
  },
  {
   "cell_type": "markdown",
   "metadata": {},
   "source": [
    "### Gráfico de acerto\n",
    "Gráfico contendo a ``Probabilidade de acerto X Porcentagem do dataset de treino``.\n"
   ]
  },
  {
   "cell_type": "code",
   "execution_count": null,
   "metadata": {},
   "outputs": [],
   "source": [
    "fig = plt.figure(1, (7,4))\n",
    "ax = fig.add_subplot(1,1,1)\n",
    "\n",
    "ax.plot(percents)\n",
    "ax.set_title('Gráfico de acerto')\n",
    "\n",
    "percentFormat = mtick.PercentFormatter(1)\n",
    "\n",
    "ax.xaxis.set_major_formatter(percentFormat)\n",
    "ax.yaxis.set_major_formatter(percentFormat)\n",
    "ax.set_ylabel('Probabilidade de acerto')\n",
    "\n",
    "ax.set_xlabel('Porcentagem do dataset de treino')\n",
    "\n",
    "plt.grid(True)\n",
    "plt.show()"
   ]
  },
  {
   "cell_type": "markdown",
   "metadata": {},
   "source": [
    "Para cada porcentagem do dataset de treino, o restante dos dados foram utilizado para teste.\n",
    "Por exemplo, caso eu tenhoa usado 20% para treino, 80% foram utilizado para teste (Não está explicito no gráfico)"
   ]
  },
  {
   "cell_type": "code",
   "execution_count": 7,
   "metadata": {},
   "outputs": [
    {
     "data": {
      "text/plain": [
       "['setosa', 'versicolor', 'virginica']"
      ]
     },
     "execution_count": 7,
     "metadata": {},
     "output_type": "execute_result"
    }
   ],
   "source": [
    "list(dataset[last_col].unique())"
   ]
  },
  {
   "cell_type": "code",
   "execution_count": 18,
   "metadata": {},
   "outputs": [],
   "source": [
    "test =  list(dataset.iloc[1])"
   ]
  },
  {
   "cell_type": "code",
   "execution_count": 21,
   "metadata": {},
   "outputs": [
    {
     "data": {
      "text/plain": [
       "(4.9, 3.0, 1.4, 0.2)"
      ]
     },
     "execution_count": 21,
     "metadata": {},
     "output_type": "execute_result"
    }
   ],
   "source": [
    "test.pop()"
   ]
  },
  {
   "cell_type": "code",
   "execution_count": 5,
   "metadata": {},
   "outputs": [
    {
     "data": {
      "text/plain": [
       "[(0, 1), (1, 10), (2, 10), (3, 2)]"
      ]
     },
     "execution_count": 5,
     "metadata": {},
     "output_type": "execute_result"
    }
   ],
   "source": [
    "list(enumerate([1,10,10,2]))"
   ]
  },
  {
   "cell_type": "code",
   "execution_count": 6,
   "metadata": {},
   "outputs": [
    {
     "data": {
      "text/plain": [
       "(1, 10)"
      ]
     },
     "execution_count": 6,
     "metadata": {},
     "output_type": "execute_result"
    }
   ],
   "source": [
    "max(list(enumerate([1,10,10,2])), key=lambda x: x[1])"
   ]
  },
  {
   "cell_type": "code",
   "execution_count": null,
   "metadata": {},
   "outputs": [],
   "source": []
  }
 ],
 "metadata": {
  "kernelspec": {
   "display_name": "Python 3",
   "language": "python",
   "name": "python3"
  },
  "language_info": {
   "codemirror_mode": {
    "name": "ipython",
    "version": 3
   },
   "file_extension": ".py",
   "mimetype": "text/x-python",
   "name": "python",
   "nbconvert_exporter": "python",
   "pygments_lexer": "ipython3",
   "version": "3.6.5"
  }
 },
 "nbformat": 4,
 "nbformat_minor": 2
}
